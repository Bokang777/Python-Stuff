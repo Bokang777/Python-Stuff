{
 "cells": [
  {
   "cell_type": "code",
   "execution_count": 18,
   "metadata": {},
   "outputs": [
    {
     "name": "stdout",
     "output_type": "stream",
     "text": [
      "[ 18.02587303  18.02587303  11.71580992  11.71580992  11.71580992\n",
      "  11.71580992  11.71580992  23.53081398  23.53081398  23.53081398\n",
      "  23.53081398  23.53081398  23.53081398  23.53081398  23.53081398\n",
      "  22.06457525  22.06457525  22.06457525  22.06457525  22.06457525]\n"
     ]
    }
   ],
   "source": [
    "import matplotlib.pyplot as plt\n",
    "import numpy as np\n",
    "from sklearn import datasets, linear_model\n",
    "from sklearn.metrics import mean_squared_error, r2_score\n",
    "\n",
    "# Loading the data sets\n",
    "prices = datasets.load_boston()     # Boston House Prices were chosen\n",
    "\n",
    "# Use only one feature (we can change this)\n",
    "prices_X = prices.data[:, np.newaxis, 2]\n",
    "\n",
    "# Split the targets into training/testing sets\n",
    "prices_X_train = prices_X[:-20]\n",
    "prices_X_test = prices_X[-20:]\n",
    "\n",
    "# Split the targets into training/testing sets\n",
    "prices_Y_train = prices.target[:-20]\n",
    "prices_Y_test = prices.target[-20:]\n",
    "\n",
    "# Create a linear regression object\n",
    "regr = linear_model.LinearRegression()\n",
    "\n",
    "# Train the Model using the training sets\n",
    "regr.fit(prices_X_train, prices_Y_train)\n",
    "\n",
    "# Make predictions using the testing set\n",
    "prices_Y_pred = regr.predict(prices_X_test)\n",
    "print(prices_Y_pred)"
   ]
  }
 ],
 "metadata": {
  "kernelspec": {
   "display_name": "Python 3",
   "language": "python",
   "name": "python3"
  },
  "language_info": {
   "codemirror_mode": {
    "name": "ipython",
    "version": 3
   },
   "file_extension": ".py",
   "mimetype": "text/x-python",
   "name": "python",
   "nbconvert_exporter": "python",
   "pygments_lexer": "ipython3",
   "version": "3.6.2"
  }
 },
 "nbformat": 4,
 "nbformat_minor": 2
}
