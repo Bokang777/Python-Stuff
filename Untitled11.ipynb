{
 "cells": [
  {
   "cell_type": "code",
   "execution_count": 48,
   "id": "passing-tactics",
   "metadata": {},
   "outputs": [],
   "source": [
    "\"\"\" Example classifier on Numerai data using a xgboost regression. \"\"\"\n",
    "\n",
    "import pandas as pd\n",
    "from xgboost import XGBRegressor\n",
    "import numpy as np\n"
   ]
  },
  {
   "cell_type": "code",
   "execution_count": 9,
   "id": "spatial-observer",
   "metadata": {},
   "outputs": [
    {
     "data": {
      "text/html": [
       "<div>\n",
       "<style scoped>\n",
       "    .dataframe tbody tr th:only-of-type {\n",
       "        vertical-align: middle;\n",
       "    }\n",
       "\n",
       "    .dataframe tbody tr th {\n",
       "        vertical-align: top;\n",
       "    }\n",
       "\n",
       "    .dataframe thead th {\n",
       "        text-align: right;\n",
       "    }\n",
       "</style>\n",
       "<table border=\"1\" class=\"dataframe\">\n",
       "  <thead>\n",
       "    <tr style=\"text-align: right;\">\n",
       "      <th></th>\n",
       "      <th>open</th>\n",
       "      <th>high</th>\n",
       "      <th>low</th>\n",
       "      <th>close</th>\n",
       "    </tr>\n",
       "  </thead>\n",
       "  <tbody>\n",
       "    <tr>\n",
       "      <th>0</th>\n",
       "      <td>1.15680</td>\n",
       "      <td>1.15680</td>\n",
       "      <td>1.15582</td>\n",
       "      <td>1.15604</td>\n",
       "    </tr>\n",
       "    <tr>\n",
       "      <th>1</th>\n",
       "      <td>1.15604</td>\n",
       "      <td>1.15624</td>\n",
       "      <td>1.15539</td>\n",
       "      <td>1.15548</td>\n",
       "    </tr>\n",
       "    <tr>\n",
       "      <th>2</th>\n",
       "      <td>1.15548</td>\n",
       "      <td>1.15593</td>\n",
       "      <td>1.15532</td>\n",
       "      <td>1.15593</td>\n",
       "    </tr>\n",
       "    <tr>\n",
       "      <th>3</th>\n",
       "      <td>1.15593</td>\n",
       "      <td>1.15623</td>\n",
       "      <td>1.15574</td>\n",
       "      <td>1.15577</td>\n",
       "    </tr>\n",
       "    <tr>\n",
       "      <th>4</th>\n",
       "      <td>1.15578</td>\n",
       "      <td>1.15634</td>\n",
       "      <td>1.15566</td>\n",
       "      <td>1.15610</td>\n",
       "    </tr>\n",
       "    <tr>\n",
       "      <th>...</th>\n",
       "      <td>...</td>\n",
       "      <td>...</td>\n",
       "      <td>...</td>\n",
       "      <td>...</td>\n",
       "    </tr>\n",
       "    <tr>\n",
       "      <th>4995</th>\n",
       "      <td>1.00106</td>\n",
       "      <td>1.00237</td>\n",
       "      <td>0.99953</td>\n",
       "      <td>0.99996</td>\n",
       "    </tr>\n",
       "    <tr>\n",
       "      <th>4996</th>\n",
       "      <td>0.99994</td>\n",
       "      <td>1.00122</td>\n",
       "      <td>0.99871</td>\n",
       "      <td>1.00072</td>\n",
       "    </tr>\n",
       "    <tr>\n",
       "      <th>4997</th>\n",
       "      <td>1.00074</td>\n",
       "      <td>1.00113</td>\n",
       "      <td>0.99868</td>\n",
       "      <td>0.99972</td>\n",
       "    </tr>\n",
       "    <tr>\n",
       "      <th>4998</th>\n",
       "      <td>0.99972</td>\n",
       "      <td>0.99979</td>\n",
       "      <td>0.99741</td>\n",
       "      <td>0.99803</td>\n",
       "    </tr>\n",
       "    <tr>\n",
       "      <th>4999</th>\n",
       "      <td>0.99806</td>\n",
       "      <td>0.99949</td>\n",
       "      <td>0.99762</td>\n",
       "      <td>0.99860</td>\n",
       "    </tr>\n",
       "  </tbody>\n",
       "</table>\n",
       "<p>5000 rows × 4 columns</p>\n",
       "</div>"
      ],
      "text/plain": [
       "         open     high      low    close\n",
       "0     1.15680  1.15680  1.15582  1.15604\n",
       "1     1.15604  1.15624  1.15539  1.15548\n",
       "2     1.15548  1.15593  1.15532  1.15593\n",
       "3     1.15593  1.15623  1.15574  1.15577\n",
       "4     1.15578  1.15634  1.15566  1.15610\n",
       "...       ...      ...      ...      ...\n",
       "4995  1.00106  1.00237  0.99953  0.99996\n",
       "4996  0.99994  1.00122  0.99871  1.00072\n",
       "4997  1.00074  1.00113  0.99868  0.99972\n",
       "4998  0.99972  0.99979  0.99741  0.99803\n",
       "4999  0.99806  0.99949  0.99762  0.99860\n",
       "\n",
       "[5000 rows x 4 columns]"
      ]
     },
     "execution_count": 9,
     "metadata": {},
     "output_type": "execute_result"
    }
   ],
   "source": [
    "# training data contains features and targets\n",
    "training_data = pd.read_csv(\"eurusd_h1_5000.csv\")\n",
    "\n",
    "training_data.pop(\"Unnamed: 0\")\n",
    "training_data.pop(\"time\")\n",
    "#df.pop(\"open\")\n",
    "#df.pop(\"high\")\n",
    "#df.pop(\"low\")\n",
    "training_data"
   ]
  },
  {
   "cell_type": "code",
   "execution_count": 12,
   "id": "increasing-hughes",
   "metadata": {},
   "outputs": [
    {
     "data": {
      "text/plain": [
       "[]"
      ]
     },
     "execution_count": 12,
     "metadata": {},
     "output_type": "execute_result"
    }
   ],
   "source": [
    "# tournament data contains features only\n",
    "tournament_data = pd.read_csv(\"eurusd_h1_5000.csv\")\n",
    "tournament_data.pop(\"Unnamed: 0\")\n",
    "tournament_data.pop(\"time\")\n",
    "feature_names = [f for f in training_data.columns if \"feature\" in f]\n",
    "feature_names\n"
   ]
  },
  {
   "cell_type": "code",
   "execution_count": 37,
   "id": "younger-sapphire",
   "metadata": {},
   "outputs": [
    {
     "data": {
      "text/plain": [
       "XGBRegressor(base_score=0.5, booster='gbtree', callbacks=None,\n",
       "             colsample_bylevel=1, colsample_bynode=1, colsample_bytree=0.1,\n",
       "             early_stopping_rounds=None, enable_categorical=False,\n",
       "             eval_metric=None, gamma=0, gpu_id=-1, grow_policy='depthwise',\n",
       "             importance_type=None, interaction_constraints='',\n",
       "             learning_rate=0.1, max_bin=256, max_cat_to_onehot=4,\n",
       "             max_delta_step=0, max_depth=2, max_leaves=0, min_child_weight=1,\n",
       "             missing=nan, monotone_constraints='()', n_estimators=2000,\n",
       "             n_jobs=0, num_parallel_tree=1, predictor='auto', random_state=0,\n",
       "             reg_alpha=0, reg_lambda=1, ...)"
      ]
     },
     "execution_count": 37,
     "metadata": {},
     "output_type": "execute_result"
    }
   ],
   "source": [
    "# train a model to make predictions on tournament data\n",
    "model = XGBRegressor(max_depth=2, learning_rate=0.1, \\\n",
    "                     n_estimators=2000, colsample_bytree=0.1)\n",
    "model.fit(training_data[[\"open\", \"high\", \"low\", \"close\"]], training_data[[\"open\", \"high\", \"low\", \"close\"]])\n",
    "\n"
   ]
  },
  {
   "cell_type": "code",
   "execution_count": 62,
   "id": "fatty-juice",
   "metadata": {},
   "outputs": [
    {
     "name": "stdout",
     "output_type": "stream",
     "text": [
      "      open     high      low   close\n",
      "0  0.99806  0.99949  0.99762  0.9986\n"
     ]
    }
   ],
   "source": [
    "# submit predictions to numer.ai\n",
    "to_predict = pd.DataFrame(np.array([[0.99806,0.99949,0.99762,0.99860]]), columns = [\"open\", \"high\", \"low\", \"close\"])\n",
    "predictions = model.predict(to_predict)\n",
    "df = pd.DataFrame(predictions)\n",
    "df.to_csv(\"predictions.csv\")\n",
    "print(to_predict)"
   ]
  },
  {
   "cell_type": "code",
   "execution_count": 63,
   "id": "innocent-repository",
   "metadata": {},
   "outputs": [
    {
     "data": {
      "text/html": [
       "<div>\n",
       "<style scoped>\n",
       "    .dataframe tbody tr th:only-of-type {\n",
       "        vertical-align: middle;\n",
       "    }\n",
       "\n",
       "    .dataframe tbody tr th {\n",
       "        vertical-align: top;\n",
       "    }\n",
       "\n",
       "    .dataframe thead th {\n",
       "        text-align: right;\n",
       "    }\n",
       "</style>\n",
       "<table border=\"1\" class=\"dataframe\">\n",
       "  <thead>\n",
       "    <tr style=\"text-align: right;\">\n",
       "      <th></th>\n",
       "      <th>Unnamed: 0</th>\n",
       "      <th>0</th>\n",
       "      <th>1</th>\n",
       "      <th>2</th>\n",
       "      <th>3</th>\n",
       "    </tr>\n",
       "  </thead>\n",
       "  <tbody>\n",
       "    <tr>\n",
       "      <th>0</th>\n",
       "      <td>0</td>\n",
       "      <td>0.9973</td>\n",
       "      <td>0.999458</td>\n",
       "      <td>0.997125</td>\n",
       "      <td>0.998193</td>\n",
       "    </tr>\n",
       "  </tbody>\n",
       "</table>\n",
       "</div>"
      ],
      "text/plain": [
       "   Unnamed: 0       0         1         2         3\n",
       "0           0  0.9973  0.999458  0.997125  0.998193"
      ]
     },
     "execution_count": 63,
     "metadata": {},
     "output_type": "execute_result"
    }
   ],
   "source": [
    " pd.read_csv(\"predictions.csv\")"
   ]
  },
  {
   "cell_type": "code",
   "execution_count": null,
   "id": "logical-financing",
   "metadata": {},
   "outputs": [],
   "source": []
  }
 ],
 "metadata": {
  "kernelspec": {
   "display_name": "Python 3",
   "language": "python",
   "name": "python3"
  },
  "language_info": {
   "codemirror_mode": {
    "name": "ipython",
    "version": 3
   },
   "file_extension": ".py",
   "mimetype": "text/x-python",
   "name": "python",
   "nbconvert_exporter": "python",
   "pygments_lexer": "ipython3",
   "version": "3.7.10"
  }
 },
 "nbformat": 4,
 "nbformat_minor": 5
}
