{
 "cells": [
  {
   "cell_type": "code",
   "execution_count": 10,
   "metadata": {},
   "outputs": [],
   "source": [
    "\"\"\"Importance of Linearity in Finance\"\"\"\n",
    "\n",
    "\"\"\"Linear Regression with Scypy\"\"\"\n",
    "from scipy import stats\n",
    "\n",
    "stock_returns = [0.065, 0.0265, -0.0593, -0.001, 0.0346]\n",
    "mkt_returns = [0.055, -0.09, -0.041, 0.045, 0.022]\n",
    "\n",
    "beta, alpha, r_value, p_value, std_err = \\\n",
    "        stats.linregress(stock_returns, mkt_returns)\n",
    "import pandas\n"
   ]
  },
  {
   "cell_type": "code",
   "execution_count": 12,
   "metadata": {},
   "outputs": [
    {
     "ename": "ModuleNotFoundError",
     "evalue": "No module named 'oandapy'",
     "output_type": "error",
     "traceback": [
      "\u001b[1;31m---------------------------------------------------------------------------\u001b[0m",
      "\u001b[1;31mModuleNotFoundError\u001b[0m                       Traceback (most recent call last)",
      "\u001b[1;32m<ipython-input-12-2ae20e832cd1>\u001b[0m in \u001b[0;36m<module>\u001b[1;34m()\u001b[0m\n\u001b[0;32m      3\u001b[0m \u001b[1;32mfor\u001b[0m \u001b[0mtrading\u001b[0m \u001b[0mforeign\u001b[0m \u001b[0mcurrencies\u001b[0m\u001b[1;33m\u001b[0m\u001b[0m\n\u001b[0;32m      4\u001b[0m \"\"\"\n\u001b[1;32m----> 5\u001b[1;33m \u001b[1;32mimport\u001b[0m \u001b[0moandapy\u001b[0m\u001b[1;33m\u001b[0m\u001b[0m\n\u001b[0m\u001b[0;32m      6\u001b[0m \u001b[1;32mfrom\u001b[0m \u001b[0mdatetime\u001b[0m \u001b[1;32mimport\u001b[0m \u001b[0mdatetime\u001b[0m\u001b[1;33m\u001b[0m\u001b[0m\n\u001b[0;32m      7\u001b[0m \u001b[1;32mimport\u001b[0m \u001b[0mpandas\u001b[0m \u001b[1;32mas\u001b[0m \u001b[0mpd\u001b[0m\u001b[1;33m\u001b[0m\u001b[0m\n",
      "\u001b[1;31mModuleNotFoundError\u001b[0m: No module named 'oandapy'"
     ]
    }
   ],
   "source": [
    "\"\"\"\n",
    "Implementing the trend-following algorithm\n",
    "for trading foreign currencies\n",
    "\"\"\"\n",
    "import oandapy\n",
    "from datetime import datetime\n",
    "import pandas as pd\n",
    "class ForexSystem(oandapy.Streamer):\n",
    "    def __init__(self, *args, **kwargs):\n",
    "        oandapy.Streamer.__init__(self, *args, **kwargs)\n",
    "        self.oanda = oandapy.API(kwargs[\"environment\"],\n",
    "                                kwargs[\"access_token\"])\n",
    "        self.instrument = None\n",
    "        self.account_id = None\n",
    "        self.qty = 0\n",
    "        self.resample_interval = '10s'\n",
    "        self.mean_period_short = 5\n",
    "        self.mean_period_long = 20\n",
    "        self.buy_threshold = 1.0\n",
    "        self.sell_threshold = 1.0\n",
    "        self.prices = pd.DataFrame()\n",
    "        self.beta = 0\n",
    "        self.is_position_opened = False\n",
    "        self.opening_price = 0\n",
    "        self.executed_price = 0\n",
    "        self.unrealized_pnl = 0\n",
    "        self.realized_pnl = 0\n",
    "        self.position = 0\n",
    "        self.dt_format = \"%Y-%m-%dT%H:%M:%S.%fZ\""
   ]
  },
  {
   "cell_type": "code",
   "execution_count": null,
   "metadata": {
    "collapsed": true
   },
   "outputs": [],
   "source": []
  }
 ],
 "metadata": {
  "kernelspec": {
   "display_name": "Python 3",
   "language": "python",
   "name": "python3"
  },
  "language_info": {
   "codemirror_mode": {
    "name": "ipython",
    "version": 3
   },
   "file_extension": ".py",
   "mimetype": "text/x-python",
   "name": "python",
   "nbconvert_exporter": "python",
   "pygments_lexer": "ipython3",
   "version": "3.6.2"
  }
 },
 "nbformat": 4,
 "nbformat_minor": 2
}
