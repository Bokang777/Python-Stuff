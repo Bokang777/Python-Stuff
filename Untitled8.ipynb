{
 "cells": [
  {
   "cell_type": "code",
   "execution_count": 2,
   "metadata": {},
   "outputs": [
    {
     "name": "stdout",
     "output_type": "stream",
     "text": [
      "Collecting universe\n",
      "  Using cached https://files.pythonhosted.org/packages/5b/5e/26ee56c16cdc83a07a3251e3425856f2ade84928de55b3fa11590ce2b912/universe-0.21.3.tar.gz\n",
      "Collecting autobahn>=0.16.0 (from universe)\n",
      "  Using cached https://files.pythonhosted.org/packages/f1/d3/23fdf1ab0104b1b65d2f7884e923f0526750a59f96334d752afc79cf44ed/autobahn-21.11.1.tar.gz\n",
      "Collecting docker-py==1.10.3 (from universe)\n",
      "  Using cached https://files.pythonhosted.org/packages/20/10/5234c4fa9710a04184586d877d028a51dc395a1867c3d4317438514dff77/docker_py-1.10.3-py2.py3-none-any.whl\n",
      "Collecting docker-pycreds==0.2.1 (from universe)\n",
      "  Using cached https://files.pythonhosted.org/packages/ff/ec/14e976222468249cc50df4a031e5922581747b52dc96a0b1d5d73fee8f0e/docker_pycreds-0.2.1-py2.py3-none-any.whl\n",
      "Collecting fastzbarlight>=0.0.13 (from universe)\n",
      "  Using cached https://files.pythonhosted.org/packages/2b/f6/b46fe453ab12ac08c6a15808d402963819f26d4bd9daa5a899f6a3bae22d/fastzbarlight-0.0.14.tar.gz\n",
      "Note: you may need to restart the kernel to use updated packages.\n"
     ]
    },
    {
     "name": "stderr",
     "output_type": "stream",
     "text": [
      "    ERROR: Complete output from command python setup.py egg_info:\n",
      "    ERROR: Traceback (most recent call last):\n",
      "      File \"<string>\", line 1, in <module>\n",
      "      File \"C:\\Users\\user\\AppData\\Local\\Temp\\pip-install-3d4y8z_4\\fastzbarlight\\setup.py\", line 49, in <module>\n",
      "        proc = subprocess.Popen(['ld', '-liconv'], stderr=subprocess.PIPE)\n",
      "      File \"C:\\ProgramData\\Anaconda3\\lib\\subprocess.py\", line 775, in __init__\n",
      "        restore_signals, start_new_session)\n",
      "      File \"C:\\ProgramData\\Anaconda3\\lib\\subprocess.py\", line 1178, in _execute_child\n",
      "        startupinfo)\n",
      "    FileNotFoundError: [WinError 2] The system cannot find the file specified\n",
      "    ----------------------------------------\n",
      "ERROR: Command \"python setup.py egg_info\" failed with error code 1 in C:\\Users\\user\\AppData\\Local\\Temp\\pip-install-3d4y8z_4\\fastzbarlight\\\n"
     ]
    }
   ],
   "source": [
    "pip install --user universe"
   ]
  },
  {
   "cell_type": "code",
   "execution_count": 3,
   "metadata": {},
   "outputs": [
    {
     "name": "stdout",
     "output_type": "stream",
     "text": [
      "Collecting universe\n",
      "  Using cached https://files.pythonhosted.org/packages/5b/5e/26ee56c16cdc83a07a3251e3425856f2ade84928de55b3fa11590ce2b912/universe-0.21.3.tar.gz\n",
      "Collecting autobahn>=0.16.0 (from universe)\n",
      "  Using cached https://files.pythonhosted.org/packages/f1/d3/23fdf1ab0104b1b65d2f7884e923f0526750a59f96334d752afc79cf44ed/autobahn-21.11.1.tar.gz\n",
      "Collecting docker-py==1.10.3 (from universe)\n",
      "  Using cached https://files.pythonhosted.org/packages/20/10/5234c4fa9710a04184586d877d028a51dc395a1867c3d4317438514dff77/docker_py-1.10.3-py2.py3-none-any.whl\n",
      "Collecting docker-pycreds==0.2.1 (from universe)\n",
      "  Using cached https://files.pythonhosted.org/packages/ff/ec/14e976222468249cc50df4a031e5922581747b52dc96a0b1d5d73fee8f0e/docker_pycreds-0.2.1-py2.py3-none-any.whl\n",
      "Collecting fastzbarlight>=0.0.13 (from universe)\n",
      "  Using cached https://files.pythonhosted.org/packages/2b/f6/b46fe453ab12ac08c6a15808d402963819f26d4bd9daa5a899f6a3bae22d/fastzbarlight-0.0.14.tar.gz\n",
      "Note: you may need to restart the kernel to use updated packages.\n"
     ]
    },
    {
     "name": "stderr",
     "output_type": "stream",
     "text": [
      "    ERROR: Complete output from command python setup.py egg_info:\n",
      "    ERROR: Traceback (most recent call last):\n",
      "      File \"<string>\", line 1, in <module>\n",
      "      File \"C:\\Users\\user\\AppData\\Local\\Temp\\pip-install-r8po2x_u\\fastzbarlight\\setup.py\", line 49, in <module>\n",
      "        proc = subprocess.Popen(['ld', '-liconv'], stderr=subprocess.PIPE)\n",
      "      File \"C:\\ProgramData\\Anaconda3\\lib\\subprocess.py\", line 775, in __init__\n",
      "        restore_signals, start_new_session)\n",
      "      File \"C:\\ProgramData\\Anaconda3\\lib\\subprocess.py\", line 1178, in _execute_child\n",
      "        startupinfo)\n",
      "    FileNotFoundError: [WinError 2] The system cannot find the file specified\n",
      "    ----------------------------------------\n",
      "ERROR: Command \"python setup.py egg_info\" failed with error code 1 in C:\\Users\\user\\AppData\\Local\\Temp\\pip-install-r8po2x_u\\fastzbarlight\\\n"
     ]
    }
   ],
   "source": [
    "pip install universe"
   ]
  },
  {
   "cell_type": "code",
   "execution_count": 1,
   "metadata": {},
   "outputs": [
    {
     "ename": "ModuleNotFoundError",
     "evalue": "No module named 'gym'",
     "output_type": "error",
     "traceback": [
      "\u001b[1;31m---------------------------------------------------------------------------\u001b[0m",
      "\u001b[1;31mModuleNotFoundError\u001b[0m                       Traceback (most recent call last)",
      "\u001b[1;32m<ipython-input-1-e49c8ef46ce8>\u001b[0m in \u001b[0;36m<module>\u001b[1;34m\u001b[0m\n\u001b[1;32m----> 1\u001b[1;33m \u001b[1;32mimport\u001b[0m \u001b[0mgym\u001b[0m\u001b[1;33m\u001b[0m\u001b[1;33m\u001b[0m\u001b[0m\n\u001b[0m\u001b[0;32m      2\u001b[0m \u001b[1;32mimport\u001b[0m \u001b[0muniverse\u001b[0m\u001b[1;33m\u001b[0m\u001b[1;33m\u001b[0m\u001b[0m\n",
      "\u001b[1;31mModuleNotFoundError\u001b[0m: No module named 'gym'"
     ]
    }
   ],
   "source": [
    "import gym\n",
    "import universe"
   ]
  },
  {
   "cell_type": "code",
   "execution_count": null,
   "metadata": {},
   "outputs": [],
   "source": []
  },
  {
   "cell_type": "code",
   "execution_count": 1,
   "metadata": {},
   "outputs": [],
   "source": [
    "import gym"
   ]
  },
  {
   "cell_type": "code",
   "execution_count": 5,
   "metadata": {},
   "outputs": [
    {
     "data": {
      "text/plain": [
       "<TimeLimit<CartPoleEnv<CartPole-v1>>>"
      ]
     },
     "execution_count": 5,
     "metadata": {},
     "output_type": "execute_result"
    }
   ],
   "source": [
    "t = 'CartPole-v1'\n",
    "gym.make(t)"
   ]
  },
  {
   "cell_type": "code",
   "execution_count": null,
   "metadata": {},
   "outputs": [],
   "source": []
  }
 ],
 "metadata": {
  "kernelspec": {
   "display_name": "Python 3",
   "language": "python",
   "name": "python3"
  },
  "language_info": {
   "codemirror_mode": {
    "name": "ipython",
    "version": 3
   },
   "file_extension": ".py",
   "mimetype": "text/x-python",
   "name": "python",
   "nbconvert_exporter": "python",
   "pygments_lexer": "ipython3",
   "version": "3.7.3"
  }
 },
 "nbformat": 4,
 "nbformat_minor": 2
}
